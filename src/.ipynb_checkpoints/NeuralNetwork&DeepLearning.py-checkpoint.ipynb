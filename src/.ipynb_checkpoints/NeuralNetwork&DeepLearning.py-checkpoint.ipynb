{
 "cells": [
  {
   "cell_type": "code",
   "execution_count": 4,
   "metadata": {},
   "outputs": [],
   "source": [
    "#using python 2.7\n",
    "# test on mnist dataset\n",
    "import mnist_loader\n",
    "training_data, validation_data, test_data = mnist_loader.load_data_wrapper()"
   ]
  },
  {
   "cell_type": "code",
   "execution_count": 5,
   "metadata": {},
   "outputs": [
    {
     "name": "stdout",
     "output_type": "stream",
     "text": [
      "Epoch 0: 9116 / 10000\n",
      "Epoch 1: 9154 / 10000\n",
      "Epoch 2: 9294 / 10000\n",
      "Epoch 3: 9357 / 10000\n",
      "Epoch 4: 9413 / 10000\n",
      "Epoch 5: 9381 / 10000\n",
      "Epoch 6: 9389 / 10000\n",
      "Epoch 7: 9426 / 10000\n",
      "Epoch 8: 9424 / 10000\n",
      "Epoch 9: 9411 / 10000\n",
      "Epoch 10: 9435 / 10000\n",
      "Epoch 11: 9432 / 10000\n",
      "Epoch 12: 9468 / 10000\n",
      "Epoch 13: 9425 / 10000\n",
      "Epoch 14: 9433 / 10000\n",
      "Epoch 15: 9454 / 10000\n",
      "Epoch 16: 9471 / 10000\n",
      "Epoch 17: 9445 / 10000\n",
      "Epoch 18: 9466 / 10000\n",
      "Epoch 19: 9483 / 10000\n",
      "Epoch 20: 9465 / 10000\n",
      "Epoch 21: 9483 / 10000\n",
      "Epoch 22: 9481 / 10000\n",
      "Epoch 23: 9477 / 10000\n",
      "Epoch 24: 9476 / 10000\n",
      "Epoch 25: 9462 / 10000\n",
      "Epoch 26: 9494 / 10000\n",
      "Epoch 27: 9488 / 10000\n",
      "Epoch 28: 9474 / 10000\n",
      "Epoch 29: 9483 / 10000\n"
     ]
    }
   ],
   "source": [
    "import network\n",
    "net = network.Network([784, 30, 10])\n",
    "net.SGD(training_data, 30, 10, 3.0, test_data=test_data)"
   ]
  },
  {
   "cell_type": "code",
   "execution_count": 6,
   "metadata": {},
   "outputs": [
    {
     "name": "stdout",
     "output_type": "stream",
     "text": [
      "Epoch 0: 7685 / 10000\n",
      "Epoch 1: 7762 / 10000\n",
      "Epoch 2: 7846 / 10000\n",
      "Epoch 3: 8375 / 10000\n",
      "Epoch 4: 8623 / 10000\n",
      "Epoch 5: 8678 / 10000\n",
      "Epoch 6: 8679 / 10000\n",
      "Epoch 7: 8703 / 10000\n",
      "Epoch 8: 8700 / 10000\n",
      "Epoch 9: 9496 / 10000\n",
      "Epoch 10: 9586 / 10000\n",
      "Epoch 11: 9576 / 10000\n",
      "Epoch 12: 9604 / 10000\n",
      "Epoch 13: 9615 / 10000\n",
      "Epoch 14: 9627 / 10000\n",
      "Epoch 15: 9621 / 10000\n",
      "Epoch 16: 9639 / 10000\n",
      "Epoch 17: 9620 / 10000\n",
      "Epoch 18: 9656 / 10000\n",
      "Epoch 19: 9651 / 10000\n",
      "Epoch 20: 9639 / 10000\n",
      "Epoch 21: 9644 / 10000\n",
      "Epoch 22: 9647 / 10000\n",
      "Epoch 23: 9647 / 10000\n",
      "Epoch 24: 9650 / 10000\n",
      "Epoch 25: 9645 / 10000\n",
      "Epoch 26: 9646 / 10000\n",
      "Epoch 27: 9645 / 10000\n",
      "Epoch 28: 9664 / 10000\n",
      "Epoch 29: 9667 / 10000\n"
     ]
    }
   ],
   "source": [
    "#rerun the test and changing the number of hidden neurons to  100\n",
    "net = network.Network([784, 100, 10])\n",
    "net.SGD(training_data, 30, 10, 3.0, test_data=test_data)"
   ]
  },
  {
   "cell_type": "code",
   "execution_count": 7,
   "metadata": {},
   "outputs": [
    {
     "name": "stdout",
     "output_type": "stream",
     "text": [
      "Epoch 0: 969 / 10000\n",
      "Epoch 1: 983 / 10000\n",
      "Epoch 2: 987 / 10000\n",
      "Epoch 3: 867 / 10000\n",
      "Epoch 4: 783 / 10000\n",
      "Epoch 5: 804 / 10000\n",
      "Epoch 6: 819 / 10000\n",
      "Epoch 7: 819 / 10000\n",
      "Epoch 8: 825 / 10000\n",
      "Epoch 9: 834 / 10000\n",
      "Epoch 10: 844 / 10000\n",
      "Epoch 11: 853 / 10000\n",
      "Epoch 12: 861 / 10000\n",
      "Epoch 13: 868 / 10000\n",
      "Epoch 14: 871 / 10000\n",
      "Epoch 15: 876 / 10000\n",
      "Epoch 16: 882 / 10000\n",
      "Epoch 17: 887 / 10000\n",
      "Epoch 18: 895 / 10000\n",
      "Epoch 19: 906 / 10000\n",
      "Epoch 20: 911 / 10000\n",
      "Epoch 21: 920 / 10000\n",
      "Epoch 22: 929 / 10000\n",
      "Epoch 23: 935 / 10000\n",
      "Epoch 24: 943 / 10000\n",
      "Epoch 25: 948 / 10000\n",
      "Epoch 26: 953 / 10000\n",
      "Epoch 27: 957 / 10000\n",
      "Epoch 28: 962 / 10000\n",
      "Epoch 29: 972 / 10000\n"
     ]
    }
   ],
   "source": [
    "#test learning rate = 0.001\n",
    "net = network.Network([784, 100, 10])\n",
    "net.SGD(training_data, 30, 10, 0.001, test_data=test_data)"
   ]
  },
  {
   "cell_type": "code",
   "execution_count": 9,
   "metadata": {},
   "outputs": [
    {
     "name": "stdout",
     "output_type": "stream",
     "text": [
      "Epoch 0: 1353 / 10000\n",
      "Epoch 1: 1353 / 10000\n",
      "Epoch 2: 1354 / 10000\n",
      "Epoch 3: 1353 / 10000\n",
      "Epoch 4: 1354 / 10000\n",
      "Epoch 5: 1354 / 10000\n",
      "Epoch 6: 1354 / 10000\n",
      "Epoch 7: 1354 / 10000\n",
      "Epoch 8: 1354 / 10000\n",
      "Epoch 9: 1353 / 10000\n",
      "Epoch 10: 1354 / 10000\n",
      "Epoch 11: 1354 / 10000\n",
      "Epoch 12: 1354 / 10000\n",
      "Epoch 13: 1355 / 10000\n",
      "Epoch 14: 1355 / 10000\n",
      "Epoch 15: 1355 / 10000\n",
      "Epoch 16: 1355 / 10000\n",
      "Epoch 17: 1355 / 10000\n",
      "Epoch 18: 1356 / 10000\n",
      "Epoch 19: 1356 / 10000\n",
      "Epoch 20: 1356 / 10000\n",
      "Epoch 21: 1356 / 10000\n",
      "Epoch 22: 1357 / 10000\n",
      "Epoch 23: 1357 / 10000\n",
      "Epoch 24: 1356 / 10000\n",
      "Epoch 25: 1357 / 10000\n",
      "Epoch 26: 1358 / 10000\n",
      "Epoch 27: 1358 / 10000\n",
      "Epoch 28: 1357 / 10000\n",
      "Epoch 29: 1357 / 10000\n"
     ]
    }
   ],
   "source": [
    "#test learning rate = 100.0\n",
    "net = network.Network([784, 30, 10])\n",
    "net.SGD(training_data, 30, 10, 100.0, test_data=test_data)"
   ]
  },
  {
   "cell_type": "code",
   "execution_count": null,
   "metadata": {},
   "outputs": [],
   "source": []
  }
 ],
 "metadata": {
  "kernelspec": {
   "display_name": "Python 3",
   "language": "python",
   "name": "python3"
  },
  "language_info": {
   "codemirror_mode": {
    "name": "ipython",
    "version": 2
   },
   "file_extension": ".py",
   "mimetype": "text/x-python",
   "name": "python",
   "nbconvert_exporter": "python",
   "pygments_lexer": "ipython2",
   "version": "2.7.15"
  }
 },
 "nbformat": 4,
 "nbformat_minor": 2
}
